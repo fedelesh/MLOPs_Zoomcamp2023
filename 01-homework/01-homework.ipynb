{
 "cells": [
  {
   "cell_type": "code",
   "execution_count": 1,
   "metadata": {},
   "outputs": [],
   "source": [
    "import pandas as pd\n",
    "import seaborn as sns\n",
    "import matplotlib.pyplot as plt\n",
    "\n",
    "from sklearn.feature_extraction import DictVectorizer\n",
    "from sklearn.linear_model import LinearRegression\n",
    "from sklearn.metrics import mean_squared_error"
   ]
  },
  {
   "cell_type": "code",
   "execution_count": 2,
   "metadata": {},
   "outputs": [],
   "source": [
    "filename_train = './data/yellow_tripdata_2022-01.parquet'\n",
    "filename_val = './data/yellow_tripdata_2022-02.parquet'"
   ]
  },
  {
   "cell_type": "code",
   "execution_count": 3,
   "metadata": {},
   "outputs": [],
   "source": [
    "df_train = pd.read_parquet(filename_train)\n",
    "df_val = pd.read_parquet(filename_val)"
   ]
  },
  {
   "cell_type": "code",
   "execution_count": 4,
   "metadata": {},
   "outputs": [],
   "source": [
    "def prepare_df(df: pd.DataFrame, cat_features: list = ['PULocationID','DOLocationID'], log: bool = False):\n",
    "    if log:\n",
    "        n_col = len(df.columns)\n",
    "        print(f'Q1: Number of columns in Jan 2022 Yellow Taxi Trip data -- {n_col}')\n",
    "    \n",
    "    df['duration'] = df.tpep_dropoff_datetime - df.tpep_pickup_datetime\n",
    "    df['duration'] = df.duration.apply(lambda td: td.total_seconds()/60)\n",
    "\n",
    "    if log:\n",
    "        duration_std = df.duration.std()\n",
    "        print(f'Q2: Standard deviation of the trips duration in Jan 2022 Yellow Taxi Trip data -- {duration_std}')\n",
    "        outliers_fraction = ((df.duration >= 1)&(df.duration <= 60)).mean()\n",
    "        print(f'Q3: Fraction of the records left after dropping the outliers -- {outliers_fraction}')\n",
    "\n",
    "    df = df[(df.duration >= 1)&(df.duration <= 60)]\n",
    "\n",
    "    df = df.astype(dict.fromkeys(cat_features, str))\n",
    "    \n",
    "    return df\n",
    "    "
   ]
  },
  {
   "cell_type": "code",
   "execution_count": 5,
   "metadata": {},
   "outputs": [],
   "source": [
    "def vectorize_X_y(df_train:pd.DataFrame, df_val:pd.DataFrame, cat_feature: list = ['PULocationID','DOLocationID'], target:str = 'duration'):\n",
    "    dv = DictVectorizer()\n",
    "\n",
    "    train_dics = df_train[cat_feature].to_dict(orient='records')\n",
    "    X_train = dv.fit_transform(train_dics)\n",
    "    y_train = df_train[target].values\n",
    "\n",
    "    val_dics = df_val[cat_feature].to_dict(orient='records')\n",
    "    X_val = dv.transform(val_dics)\n",
    "    y_val = df_val[target].values\n",
    "\n",
    "    return X_train,y_train, X_val,y_val, dv"
   ]
  },
  {
   "cell_type": "code",
   "execution_count": 6,
   "metadata": {},
   "outputs": [
    {
     "name": "stdout",
     "output_type": "stream",
     "text": [
      "Q1: Number of columns in Jan 2022 Yellow Taxi Trip data -- 19\n",
      "Q2: Standard deviation of the trips duration in Jan 2022 Yellow Taxi Trip data -- 46.44530513776802\n",
      "Q3: Fraction of the records left after dropping the outliers -- 0.9827547930522406\n"
     ]
    }
   ],
   "source": [
    "df_train = prepare_df(df_train, log=True)\n",
    "df_val = prepare_df(df_val)\n",
    "\n",
    "X_train,y_train, X_val,y_val, dv = vectorize_X_y(df_train, df_val)"
   ]
  },
  {
   "cell_type": "code",
   "execution_count": 7,
   "metadata": {},
   "outputs": [
    {
     "name": "stdout",
     "output_type": "stream",
     "text": [
      "Q4: Dimensionality after OHE -- 515\n"
     ]
    }
   ],
   "source": [
    "print(f'Q4: Dimensionality after OHE -- {X_train.shape[1]}')"
   ]
  },
  {
   "cell_type": "code",
   "execution_count": 9,
   "metadata": {},
   "outputs": [
    {
     "name": "stdout",
     "output_type": "stream",
     "text": [
      "Q5: RMSE on train -- 6.98619123059128\n",
      "Q6: RMSE on validation -- 7.786413522518241\n"
     ]
    }
   ],
   "source": [
    "lr = LinearRegression()\n",
    "lr.fit(X_train, y_train)\n",
    "\n",
    "y_pred_train = lr.predict(X_train)\n",
    "rmse_train = mean_squared_error(y_train, y_pred_train, squared=False)\n",
    "print(f'Q5: RMSE on train -- {rmse_train}')\n",
    "\n",
    "y_pred = lr.predict(X_val)\n",
    "rmse_val = mean_squared_error(y_val, y_pred, squared=False)\n",
    "print(f'Q6: RMSE on validation -- {rmse_val}')"
   ]
  },
  {
   "cell_type": "code",
   "execution_count": 10,
   "metadata": {},
   "outputs": [
    {
     "name": "stderr",
     "output_type": "stream",
     "text": [
      "/tmp/ipykernel_78081/3843849186.py:1: UserWarning: \n",
      "\n",
      "`distplot` is a deprecated function and will be removed in seaborn v0.14.0.\n",
      "\n",
      "Please adapt your code to use either `displot` (a figure-level function with\n",
      "similar flexibility) or `histplot` (an axes-level function for histograms).\n",
      "\n",
      "For a guide to updating your code to use the new functions, please see\n",
      "https://gist.github.com/mwaskom/de44147ed2974457ad6372750bbe5751\n",
      "\n",
      "  sns.distplot(y_pred,label='prediction')\n",
      "/tmp/ipykernel_78081/3843849186.py:2: UserWarning: \n",
      "\n",
      "`distplot` is a deprecated function and will be removed in seaborn v0.14.0.\n",
      "\n",
      "Please adapt your code to use either `displot` (a figure-level function with\n",
      "similar flexibility) or `histplot` (an axes-level function for histograms).\n",
      "\n",
      "For a guide to updating your code to use the new functions, please see\n",
      "https://gist.github.com/mwaskom/de44147ed2974457ad6372750bbe5751\n",
      "\n",
      "  sns.distplot(y_train,label='actual')\n"
     ]
    },
    {
     "data": {
      "text/plain": [
       "<matplotlib.legend.Legend at 0x7fef7c5878e0>"
      ]
     },
     "execution_count": 10,
     "metadata": {},
     "output_type": "execute_result"
    },
    {
     "data": {
      "image/png": "[encoded data removed]",
      "text/plain": [
       "<Figure size 640x480 with 1 Axes>"
      ]
     },
     "metadata": {},
     "output_type": "display_data"
    }
   ],
   "source": [
    "sns.distplot(y_pred,label='prediction')\n",
    "sns.distplot(y_train,label='actual')\n",
    "\n",
    "plt.legend()"
   ]
  },
  {
   "cell_type": "code",
   "execution_count": null,
   "metadata": {},
   "outputs": [],
   "source": []
  }
 ],
 "metadata": {
  "kernelspec": {
   "display_name": "Python 3",
   "language": "python",
   "name": "python3"
  },
  "language_info": {
   "codemirror_mode": {
    "name": "ipython",
    "version": 3
   },
   "file_extension": ".py",
   "mimetype": "text/x-python",
   "name": "python",
   "nbconvert_exporter": "python",
   "pygments_lexer": "ipython3",
   "version": "3.10.6"
  },
  "orig_nbformat": 4
 },
 "nbformat": 4,
 "nbformat_minor": 2
}
